{
  "nbformat": 4,
  "nbformat_minor": 0,
  "metadata": {
    "kernelspec": {
      "display_name": "Python 3",
      "language": "python",
      "name": "python3"
    },
    "language_info": {
      "codemirror_mode": {
        "name": "ipython",
        "version": 3
      },
      "file_extension": ".py",
      "mimetype": "text/x-python",
      "name": "python",
      "nbconvert_exporter": "python",
      "pygments_lexer": "ipython3",
      "version": "3.7.3"
    },
    "colab": {
      "name": "CollectionQuestions.ipynb",
      "provenance": [],
      "collapsed_sections": []
    }
  },
  "cells": [
    {
      "cell_type": "code",
      "metadata": {
        "id": "CalrNnCqZXY8"
      },
      "source": [
        "'''\n",
        "Question1:\n",
        "\n",
        "Write a program to the largest number from the list given below:\n",
        "\n",
        "listExample1 = [8,9,13,2,3,99,6,7,4,3]\n",
        "\n",
        "'''\n",
        "\n"
      ],
      "execution_count": null,
      "outputs": []
    },
    {
      "cell_type": "code",
      "source": [
        "listExample1 = [8,9,13,2,3,99,6,7,4,3]\n",
        "print(max(listExample1))"
      ],
      "metadata": {
        "id": "peaEsCdPBAch",
        "outputId": "22a91068-fde4-4b1e-bf44-1ad464175db1",
        "colab": {
          "base_uri": "https://localhost:8080/"
        }
      },
      "execution_count": 1,
      "outputs": [
        {
          "output_type": "stream",
          "name": "stdout",
          "text": [
            "99\n"
          ]
        }
      ]
    },
    {
      "cell_type": "code",
      "metadata": {
        "id": "8UNvYRI_ZXZB"
      },
      "source": [
        "'''\n",
        "Question2:\n",
        "\n",
        "Write a program to sum all the items from the list given below:\n",
        "\n",
        "listExample2 = [9,8,7,6,5,4,3]\n",
        "\n",
        "'''\n"
      ],
      "execution_count": null,
      "outputs": []
    },
    {
      "cell_type": "code",
      "source": [
        "listExample2 = [9,8,7,6,5,4,3]\n",
        "print(sum(listExample2))"
      ],
      "metadata": {
        "id": "1uAZSUIKBA29",
        "outputId": "8e21270c-15cc-472d-cf27-4e69974dbf15",
        "colab": {
          "base_uri": "https://localhost:8080/"
        }
      },
      "execution_count": 2,
      "outputs": [
        {
          "output_type": "stream",
          "name": "stdout",
          "text": [
            "42\n"
          ]
        }
      ]
    },
    {
      "cell_type": "code",
      "metadata": {
        "id": "iRWVi3kDZXZB"
      },
      "source": [
        "'''\n",
        "Question3:\n",
        "\n",
        "Write a program to remove duplicate values from the list given below:\n",
        "\n",
        "listExample3 = [1,1,1,2,3,44,44,9,9,1,4,44]\n",
        "\n",
        "'''"
      ],
      "execution_count": null,
      "outputs": []
    },
    {
      "cell_type": "code",
      "source": [
        "listExample3 = [1,1,1,2,3,44,44,9,9,1,4,44]\n",
        "newlist = list(set(listExample3))\n",
        "newlist"
      ],
      "metadata": {
        "id": "SlaQ3DQEBBK8",
        "outputId": "47e5ef8a-cbe3-40c2-a8da-536cb8d694ac",
        "colab": {
          "base_uri": "https://localhost:8080/"
        }
      },
      "execution_count": 4,
      "outputs": [
        {
          "output_type": "execute_result",
          "data": {
            "text/plain": [
              "[1, 2, 3, 4, 9, 44]"
            ]
          },
          "metadata": {},
          "execution_count": 4
        }
      ]
    }
  ]
}